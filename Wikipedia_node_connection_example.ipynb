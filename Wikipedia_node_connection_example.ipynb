{
 "cells": [
  {
   "cell_type": "markdown",
   "metadata": {},
   "source": [
    "# Wikipedia Node Connection\n",
    "## Marco Gancitano\n",
    "\n",
    "The purpose of this notebook is to demonstrate the function built out for searching wikipedia's massive network of connections. This find_connection function utilizes web crawling and breadth first search to find the most efficient connection from one wikipedia page to another. \n",
    "\n",
    "Steps:\n",
    "1. Load wikipedia url and scrap all internal wikipedia links.\n",
    "2. Store links in a queue (FIFO) along with connection layer  \n",
    "    - Initial connection = 1, connection of that = 2\n",
    "3. Pop next url from queue\n",
    "4. Repeat steps 1 - 3 until the end_url is found or reach max layers to search \n",
    "\n",
    "<br>\n",
    "NOTE: Reference functions.py for actual code  \n",
    "\n",
    "functions:  \n",
    "is_absolute: Checks if link is absolute or relative to website  \n",
    "find_connection: Master function which crawls wikipedia looking for the connections  "
   ]
  },
  {
   "cell_type": "code",
   "execution_count": 11,
   "metadata": {},
   "outputs": [],
   "source": [
    "import functions\n",
    "import operator\n",
    "\n",
    "import networkx as nx"
   ]
  },
  {
   "cell_type": "code",
   "execution_count": 2,
   "metadata": {},
   "outputs": [
    {
     "name": "stdout",
     "output_type": "stream",
     "text": [
      "Layer: 0\n",
      "Layer: 1\n",
      "Connection Found!\n",
      "Degrees to end site: 1\n",
      "0: https://en.wikipedia.org/wiki/Barrack_Obama\n",
      "1: https://en.wikipedia.org/wiki/Cocaine\n",
      "2: https://en.wikipedia.org/wiki/Glaucoma\n"
     ]
    }
   ],
   "source": [
    "base_url = 'https://en.wikipedia.org/wiki/Barrack_Obama'\n",
    "end_url = 'https://en.wikipedia.org/wiki/Glaucoma'\n",
    "\n",
    "G = functions.find_connection(base_url,end_url)"
   ]
  },
  {
   "cell_type": "code",
   "execution_count": 3,
   "metadata": {},
   "outputs": [
    {
     "data": {
      "text/plain": [
       "131025"
      ]
     },
     "execution_count": 3,
     "metadata": {},
     "output_type": "execute_result"
    }
   ],
   "source": [
    "G.number_of_edges()"
   ]
  },
  {
   "cell_type": "code",
   "execution_count": 5,
   "metadata": {},
   "outputs": [
    {
     "data": {
      "text/plain": [
       "57444"
      ]
     },
     "execution_count": 5,
     "metadata": {},
     "output_type": "execute_result"
    }
   ],
   "source": [
    "G.number_of_nodes()"
   ]
  },
  {
   "cell_type": "code",
   "execution_count": 9,
   "metadata": {},
   "outputs": [
    {
     "data": {
      "text/plain": [
       "0.27617546653639796"
      ]
     },
     "execution_count": 9,
     "metadata": {},
     "output_type": "execute_result"
    }
   ],
   "source": [
    "nx.average_clustering(G)"
   ]
  },
  {
   "cell_type": "code",
   "execution_count": 16,
   "metadata": {},
   "outputs": [
    {
     "data": {
      "text/plain": [
       "[('https://en.wikipedia.org/wiki/Chicago', 0.011773186044081427),\n",
       " ('https://en.wikipedia.org/wiki/Marijuana', 0.008594407678305127),\n",
       " ('https://en.wikipedia.org/wiki/ISIL', 0.007781139309373355),\n",
       " ('https://en.wikipedia.org/wiki/Illinois', 0.0075487352334875045),\n",
       " ('https://en.wikipedia.org/wiki/St._Francis_of_Assisi',\n",
       "  0.0073408666676589174),\n",
       " ('https://en.wikipedia.org/wiki/Washington,_D.C.', 0.007275465059430593),\n",
       " ('https://en.wikipedia.org/wiki/Iraq_War', 0.007141811181429644),\n",
       " ('https://en.wikipedia.org/wiki/Al_Gore', 0.007033667412814957),\n",
       " ('https://en.wikipedia.org/wiki/Hillary_Clinton', 0.006805282188664555)]"
      ]
     },
     "execution_count": 16,
     "metadata": {},
     "output_type": "execute_result"
    }
   ],
   "source": [
    "page_rank_dict = nx.pagerank(G)\n",
    "ordered_page_rank = sorted(page_rank_dict.items(),key = operator.itemgetter(1),reverse = True)\n",
    "ordered_page_rank[1:10]"
   ]
  }
 ],
 "metadata": {
  "kernelspec": {
   "display_name": "Python 3",
   "language": "python",
   "name": "python3"
  },
  "language_info": {
   "codemirror_mode": {
    "name": "ipython",
    "version": 3
   },
   "file_extension": ".py",
   "mimetype": "text/x-python",
   "name": "python",
   "nbconvert_exporter": "python",
   "pygments_lexer": "ipython3",
   "version": "3.6.4"
  }
 },
 "nbformat": 4,
 "nbformat_minor": 2
}
