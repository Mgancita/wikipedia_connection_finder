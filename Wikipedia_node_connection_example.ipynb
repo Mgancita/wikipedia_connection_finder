{
 "cells": [
  {
   "cell_type": "markdown",
   "metadata": {},
   "source": [
    "# Wikipedia Node Connection\n",
    "## Marco Gancitano\n",
    "\n",
    "The purpose of this notebook is to demonstrate the function built out for searching wikipedia's massive network of connections. This find_connection function utilizes web crawling and breadth first search to find the most efficient connection from one wikipedia page to another. \n",
    "\n",
    "Steps:\n",
    "1. Load wikipedia url and scrap all internal wikipedia links.\n",
    "2. Store links in a queue (FIFO) along with connection layer  \n",
    "    - Initial connection = 1, connection of that = 2\n",
    "3. Pop next url from queue\n",
    "4. Repeat steps 1 - 3 until the end_url is found or reach max layers to search \n",
    "\n",
    "<br>\n",
    "NOTE: Reference functions.py for actual code  \n",
    "\n",
    "functions:  \n",
    "is_absolute: Checks if link is absolute or relative to website  \n",
    "bfs: Finds connection between nodes in a dictionary  \n",
    "find_connection: Master function which crawls wikipedia looking for the connections  "
   ]
  },
  {
   "cell_type": "code",
   "execution_count": null,
   "metadata": {},
   "outputs": [],
   "source": [
    "import functions"
   ]
  },
  {
   "cell_type": "code",
   "execution_count": 5,
   "metadata": {},
   "outputs": [
    {
     "name": "stdout",
     "output_type": "stream",
     "text": [
      "Layer: 0\n",
      "Layer: 1\n",
      "Connection Found!\n",
      "Degrees to end site: 1\n",
      "0: https://en.wikipedia.org/wiki/Barrack_Obama\n",
      "1: https://en.wikipedia.org/wiki/Cocaine\n",
      "2: https://en.wikipedia.org/wiki/Glaucoma\n"
     ]
    }
   ],
   "source": [
    "base_url = 'https://en.wikipedia.org/wiki/Barrack_Obama'\n",
    "end_url = 'https://en.wikipedia.org/wiki/Glaucoma'\n",
    "\n",
    "functions.find_connection(base_url,end_url)"
   ]
  }
 ],
 "metadata": {
  "kernelspec": {
   "display_name": "Python 3",
   "language": "python",
   "name": "python3"
  },
  "language_info": {
   "codemirror_mode": {
    "name": "ipython",
    "version": 3
   },
   "file_extension": ".py",
   "mimetype": "text/x-python",
   "name": "python",
   "nbconvert_exporter": "python",
   "pygments_lexer": "ipython3",
   "version": "3.6.4"
  }
 },
 "nbformat": 4,
 "nbformat_minor": 2
}
